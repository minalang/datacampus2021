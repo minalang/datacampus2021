{
  "nbformat": 4,
  "nbformat_minor": 0,
  "metadata": {
    "colab": {
      "name": "210727_tmdb데이터 활용 콘텐츠기반 추천시스템.ipynb",
      "provenance": [],
      "collapsed_sections": [],
      "authorship_tag": "ABX9TyMB9SNrHy/L0ckvB7wP/V3I",
      "include_colab_link": true
    },
    "kernelspec": {
      "name": "python3",
      "display_name": "Python 3"
    },
    "language_info": {
      "name": "python"
    }
  },
  "cells": [
    {
      "cell_type": "markdown",
      "metadata": {
        "id": "view-in-github",
        "colab_type": "text"
      },
      "source": [
        "<a href=\"https://colab.research.google.com/github/minalang/study/blob/main/210727_tmdb%EB%8D%B0%EC%9D%B4%ED%84%B0_%ED%99%9C%EC%9A%A9_%EC%BD%98%ED%85%90%EC%B8%A0%EA%B8%B0%EB%B0%98_%EC%B6%94%EC%B2%9C%EC%8B%9C%EC%8A%A4%ED%85%9C.ipynb\" target=\"_parent\"><img src=\"https://colab.research.google.com/assets/colab-badge.svg\" alt=\"Open In Colab\"/></a>"
      ]
    },
    {
      "cell_type": "markdown",
      "metadata": {
        "id": "4joEMiWjlTsB"
      },
      "source": [
        "credits: https://techblog-history-younghunjo1.tistory.com/115?category=924148"
      ]
    },
    {
      "cell_type": "code",
      "metadata": {
        "id": "cfoQvyVZklVU"
      },
      "source": [
        "from ast import literal_eval\n",
        "import pandas as pd\n",
        "import numpy as np\n",
        "import warnings\n",
        "warnings.filterwarnings(action='ignore')\n",
        "movies = pd.read_csv('tmdb_5000_movies.csv', encoding='utf-8')\n",
        "# 컨텐츠를 추천하는 시스템을 만들기 위해서\n",
        "# 해당 영화들의 유사도 비교할 항목들만 추출\n",
        "movies_df = movies[['id','title', 'genres', 'vote_average', 'vote_count',\n",
        "                 'popularity', 'keywords', 'overview']]\n",
        "\n",
        "movies_df['genres'] = movies_df['genres'].apply(literal_eval)\n",
        "movies_df['keywords'] = movies_df['keywords'].apply(literal_eval)\n",
        "# genres라는 dict형태에서 'name' key의 value들만 가져오기\n",
        "movies_df['genres'] = movies_df['genres'].apply(lambda x: [y['name'] for y in x])\n",
        "# keywords도 동일하게 수행\n",
        "movies_df['keywords'] = movies_df['keywords'].apply(lambda x: [y['name'] for y in x])\n",
        "# 리스트에 담겨있는 genres, keywords를 공백 기준으로 문자열로 붙이기\n",
        "movies_df['genres_literal'] = movies_df['genres'].apply(lambda x : (' ').join(x))\n",
        "movies_df['keywords_literal'] = movies_df['keywords'].apply(lambda x: (' ').join(x))"
      ],
      "execution_count": null,
      "outputs": []
    },
    {
      "cell_type": "code",
      "metadata": {
        "colab": {
          "base_uri": "https://localhost:8080/"
        },
        "id": "q-4tnOeKkxEm",
        "outputId": "6bb98eb4-b196-497b-a773-93b9006b0f00"
      },
      "source": [
        "# 모든 변수가 텍스트로 이루어졌으니 Countvectorizer로 feature 벡터화시키기\n",
        "# 경우에 따라 추가적으로 Lemmatization 추가해 토큰화 전용 함수 추가도 가능!\n",
        "\n",
        "from sklearn.metrics.pairwise import cosine_similarity\n",
        "from sklearn.feature_extraction.text import CountVectorizer\n",
        "\n",
        "cnt_vect = CountVectorizer(min_df=0, ngram_range=(1,2))\n",
        "# fit_transform안에 데이터프레임형태로 넣어주면 안됨. 하나의 변수씩만 넣어주자!\n",
        "genres_vect = cnt_vect.fit_transform(movies_df['genres_literal'])\n",
        "keywords_vect = cnt_vect.fit_transform(movies_df['keywords_literal'])\n",
        "\n",
        "# 장르에 따른 영화별 코사인 유사도 추출\n",
        "genre_sim = cosine_similarity(genres_vect, genres_vect)\n",
        "# 3개만 유사도행렬값 추출해보기\n",
        "print(genre_sim[:3])"
      ],
      "execution_count": null,
      "outputs": [
        {
          "output_type": "stream",
          "text": [
            "[[1.         0.59628479 0.4472136  ... 0.         0.         0.        ]\n",
            " [0.59628479 1.         0.4        ... 0.         0.         0.        ]\n",
            " [0.4472136  0.4        1.         ... 0.         0.         0.        ]]\n"
          ],
          "name": "stdout"
        }
      ]
    },
    {
      "cell_type": "code",
      "metadata": {
        "colab": {
          "base_uri": "https://localhost:8080/"
        },
        "id": "mBEIAek4kxHy",
        "outputId": "0699528f-ce7f-4b5c-eaec-94711fca0956"
      },
      "source": [
        "# argsort를 이용해서 유사도가 높은 영화들의 index 추출\n",
        "genre_sim_idx = genre_sim.argsort()[::-1]\n",
        "\n",
        "# 특정 영화를 기준으로 선정해서 유사도가 높은 영화를 반환하는 함수 생성\n",
        "def find_sim_movie(df, sorted_idx, title_name, top_n=10):\n",
        "    # 비교기준으로 선정할 특정 영화 선정\n",
        "    title_movie = df[df['title'] == title_name]\n",
        "    \n",
        "    # 비교기준 영화의 index.values를 할당해 유사도 행렬에서 비교기준 영화에 해당하는 유사도 행렬값을 찾자!\n",
        "    title_movie_idx = title_movie.index.values\n",
        "    # 모든 영화끼리의 유사도 행렬에서 비교기준 영화에 대한 유사도행렬 찾아서 할당\n",
        "    top_sim_idx = sorted_idx[title_movie_idx, :top_n]\n",
        "    print(top_sim_idx)\n",
        "    \n",
        "    # top_sim_idx는 2차원 array이기 때문에 1차원 array로 변경\n",
        "    # 왜냐하면 top_sim_idx로 movies_df의 index값으로 넣어서 유사한 영화추출할 것이기 때문\n",
        "    top_sim_idx = top_sim_idx.reshape(-1,)\n",
        "    similar_movie = df.iloc[top_sim_idx]\n",
        "    \n",
        "    return similar_movie\n",
        "    \n",
        "similar_movies = find_sim_movie(movies_df, genre_sim_idx, 'The Avengers')\n",
        "print(similar_movies[['title','vote_average','vote_count']])"
      ],
      "execution_count": null,
      "outputs": [
        {
          "output_type": "stream",
          "text": [
            "[[   0 2743 2749 2750 2751 2752 2755 2757 2760 2764]]\n",
            "                      title  vote_average  vote_count\n",
            "0                    Avatar           7.2       11800\n",
            "2743   The Butterfly Effect           7.3        2060\n",
            "2749         Child's Play 2           5.8         308\n",
            "2750           No Good Deed           5.6         181\n",
            "2751               The Mist           6.7        1399\n",
            "2752             Ex Machina           7.6        4737\n",
            "2755          Earth to Echo           5.7         290\n",
            "2757  Letters from Iwo Jima           7.2         541\n",
            "2760                   Room           8.1        2757\n",
            "2764            Light It Up           6.6           7\n"
          ],
          "name": "stdout"
        }
      ]
    },
    {
      "cell_type": "code",
      "metadata": {
        "colab": {
          "base_uri": "https://localhost:8080/"
        },
        "id": "daZraoIvkxKi",
        "outputId": "b9497910-0b5e-4d56-98e7-8e37e59a9dff"
      },
      "source": [
        "C = movies_df['vote_average'].mean()\n",
        "\n",
        "# 투표횟수 중 60%이상의 횟수에 달하는 숫자\n",
        "# 예를들어 총 투표횟수가 100과 1일때 m값은 매우 달라진다.\n",
        "m = movies_df['vote_count'].quantile(0.6)\n",
        "\n",
        "def weighted_vote_average(record):\n",
        "    v = record['vote_count']\n",
        "    R = record['vote_average']\n",
        "    \n",
        "    return ( (v/(v+m)) * R) + ( (m/(m+v)) * C)\n",
        "    \n",
        "movies_df['weighted_vote'] = movies_df.apply(weighted_vote_average, axis=1)\n",
        " \n",
        "# 가중 평점 변수를 추가해서 유사한 영화 찾아주는 함수 재정의\n",
        "def find_sim_movie(df, sorted_idx, title_name, top_n=10):\n",
        "    title_movie = df[df['title'] == title_name]\n",
        "    title_idx = title_movie.index.values\n",
        "    \n",
        "    similar_idx = sorted_idx[title_idx, :(top_n*2)]\n",
        "    similar_idx = similar_idx.reshape(-1,)\n",
        "    \n",
        "    #자기 자신 영화 제외, boolean index기법 사용!\n",
        "    similar_idx = similar_idx[similar_idx != title_idx]\n",
        "    return df.iloc[similar_idx].sort_values(by=['weighted_vote'], ascending=False)[:top_n]\n",
        "\n",
        "similar_movies = find_sim_movie(movies_df, genre_sim_idx,\n",
        "                               'The Avengers')\n",
        "print(similar_movies[['title','vote_average','weighted_vote']])"
      ],
      "execution_count": null,
      "outputs": [
        {
          "output_type": "stream",
          "text": [
            "                      title  vote_average  weighted_vote\n",
            "2760                   Room           8.1       7.862312\n",
            "2752             Ex Machina           7.6       7.490704\n",
            "0                    Avatar           7.2       7.166301\n",
            "2743   The Butterfly Effect           7.3       7.116008\n",
            "2757  Letters from Iwo Jima           7.2       6.749914\n",
            "2751               The Mist           6.7       6.572814\n",
            "2783               The Call           6.6       6.484465\n",
            "2787         Quest for Fire           7.1       6.321415\n",
            "2742           The Shallows           6.2       6.179394\n",
            "2778               Infamous           6.4       6.135104\n"
          ],
          "name": "stdout"
        }
      ]
    },
    {
      "cell_type": "code",
      "metadata": {
        "id": "gTCp_HMtkxQu"
      },
      "source": [
        ""
      ],
      "execution_count": null,
      "outputs": []
    }
  ]
}