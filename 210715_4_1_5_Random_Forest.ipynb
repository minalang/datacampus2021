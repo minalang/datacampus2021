{
  "nbformat": 4,
  "nbformat_minor": 0,
  "metadata": {
    "kernelspec": {
      "display_name": "Python 3",
      "language": "python",
      "name": "python3"
    },
    "language_info": {
      "codemirror_mode": {
        "name": "ipython",
        "version": 3
      },
      "file_extension": ".py",
      "mimetype": "text/x-python",
      "name": "python",
      "nbconvert_exporter": "python",
      "pygments_lexer": "ipython3",
      "version": "3.6.8"
    },
    "colab": {
      "name": "4.1.5 Random Forest.ipynb",
      "provenance": [],
      "include_colab_link": true
    }
  },
  "cells": [
    {
      "cell_type": "markdown",
      "metadata": {
        "id": "view-in-github",
        "colab_type": "text"
      },
      "source": [
        "<a href=\"https://colab.research.google.com/github/minalang/study/blob/main/210715_4_1_5_Random_Forest.ipynb\" target=\"_parent\"><img src=\"https://colab.research.google.com/assets/colab-badge.svg\" alt=\"Open In Colab\"/></a>"
      ]
    },
    {
      "cell_type": "markdown",
      "metadata": {
        "id": "YO1gSXA8YRYu"
      },
      "source": [
        "# 패키지 및 데이터 불러오기 불러오기"
      ]
    },
    {
      "cell_type": "code",
      "metadata": {
        "id": "tEKfBObWYRYy"
      },
      "source": [
        "import pandas as pd\n",
        "import numpy as np\n",
        "import os\n",
        "from sklearn.feature_extraction.text import CountVectorizer"
      ],
      "execution_count": 4,
      "outputs": []
    },
    {
      "cell_type": "code",
      "metadata": {
        "id": "Pdo75rw2YRYz"
      },
      "source": [
        "DATA_IN_PATH = './data_in/'\n",
        "DATA_OUT_PATH = './data_out/'\n",
        "TRAIN_CLEAN_DATA = 'train_clean.csv'\n",
        "TEST_SIZE = 0.2\n",
        "RANDOM_SEED = 42"
      ],
      "execution_count": 5,
      "outputs": []
    },
    {
      "cell_type": "code",
      "metadata": {
        "id": "V6mU2jgjYRY0"
      },
      "source": [
        "train_data = pd.read_csv(DATA_IN_PATH + TRAIN_CLEAN_DATA)"
      ],
      "execution_count": 6,
      "outputs": []
    },
    {
      "cell_type": "code",
      "metadata": {
        "id": "UwyC7XXjYRY0"
      },
      "source": [
        "reviews = list(train_data['review'])\n",
        "y = np.array(train_data['sentiment'])"
      ],
      "execution_count": 7,
      "outputs": []
    },
    {
      "cell_type": "markdown",
      "metadata": {
        "id": "dNd4LL2jYRY0"
      },
      "source": [
        "# CountVectorizer를 활용한 벡터화"
      ]
    },
    {
      "cell_type": "code",
      "metadata": {
        "id": "mWIxfmuzYRY1"
      },
      "source": [
        "vectorizer = CountVectorizer(analyzer = \"word\", max_features = 5000) \n",
        "\n",
        "train_data_features = vectorizer.fit_transform(reviews)"
      ],
      "execution_count": 8,
      "outputs": []
    },
    {
      "cell_type": "markdown",
      "metadata": {
        "id": "XnUo5TqcYRY2"
      },
      "source": [
        "# 학습과 검증 데이터 분리"
      ]
    },
    {
      "cell_type": "code",
      "metadata": {
        "id": "ieIkkiTLYRY2"
      },
      "source": [
        "from sklearn.model_selection import train_test_split"
      ],
      "execution_count": 9,
      "outputs": []
    },
    {
      "cell_type": "code",
      "metadata": {
        "id": "LkLW05bOYRY3"
      },
      "source": [
        "train_input, eval_input, train_label, eval_label = train_test_split(train_data_features, y, test_size=TEST_SIZE, random_state=RANDOM_SEED)"
      ],
      "execution_count": 10,
      "outputs": []
    },
    {
      "cell_type": "markdown",
      "metadata": {
        "id": "bvBlri8gYRY3"
      },
      "source": [
        "# 모델 구현 및 학습 "
      ]
    },
    {
      "cell_type": "code",
      "metadata": {
        "colab": {
          "base_uri": "https://localhost:8080/"
        },
        "id": "lzd6VOcWYRY3",
        "outputId": "8fb8581b-b848-4c90-9f7f-f333ffc41e34"
      },
      "source": [
        "from sklearn.ensemble import RandomForestClassifier\n",
        "\n",
        "\n",
        "# 랜덤 포레스트 분류기에  100개 의사 결정 트리를 사용한다.\n",
        "forest = RandomForestClassifier(n_estimators = 100) \n",
        "\n",
        "# 단어 묶음을 벡터화한 데이터와 정답 데이터를 가지고 학습을 시작한다.\n",
        "forest.fit( train_input, train_label )"
      ],
      "execution_count": 11,
      "outputs": [
        {
          "output_type": "execute_result",
          "data": {
            "text/plain": [
              "RandomForestClassifier(bootstrap=True, ccp_alpha=0.0, class_weight=None,\n",
              "                       criterion='gini', max_depth=None, max_features='auto',\n",
              "                       max_leaf_nodes=None, max_samples=None,\n",
              "                       min_impurity_decrease=0.0, min_impurity_split=None,\n",
              "                       min_samples_leaf=1, min_samples_split=2,\n",
              "                       min_weight_fraction_leaf=0.0, n_estimators=100,\n",
              "                       n_jobs=None, oob_score=False, random_state=None,\n",
              "                       verbose=0, warm_start=False)"
            ]
          },
          "metadata": {
            "tags": []
          },
          "execution_count": 11
        }
      ]
    },
    {
      "cell_type": "code",
      "metadata": {
        "colab": {
          "base_uri": "https://localhost:8080/"
        },
        "id": "_Fo4LtHDYRY4",
        "outputId": "d1bf9561-8516-453f-bc90-82f2ae5dd8a4"
      },
      "source": [
        "print(\"Accuracy: %f\" % forest.score(eval_input, eval_label))  # 검증함수로 정확도 측정"
      ],
      "execution_count": 12,
      "outputs": [
        {
          "output_type": "stream",
          "text": [
            "Accuracy: 0.843600\n"
          ],
          "name": "stdout"
        }
      ]
    },
    {
      "cell_type": "markdown",
      "metadata": {
        "id": "qJ6oGWi-YRY4"
      },
      "source": [
        "# 검증 데이터셋으로 성능 평가"
      ]
    },
    {
      "cell_type": "code",
      "metadata": {
        "id": "pnm_GySxYRY4"
      },
      "source": [
        "TEST_CLEAN_DATA = 'test_clean.csv'\n",
        "\n",
        "test_data = pd.read_csv(DATA_IN_PATH + TEST_CLEAN_DATA)\n",
        "\n",
        "test_reviews = list(test_data['review'])\n",
        "ids = list(test_data['id'])"
      ],
      "execution_count": 13,
      "outputs": []
    },
    {
      "cell_type": "code",
      "metadata": {
        "id": "y1CspmfuYRY5"
      },
      "source": [
        "test_data_features = vectorizer.transform(test_reviews)"
      ],
      "execution_count": 14,
      "outputs": []
    },
    {
      "cell_type": "markdown",
      "metadata": {
        "id": "q-K0oGUmYRY5"
      },
      "source": [
        "# 데이터 제출하기"
      ]
    },
    {
      "cell_type": "code",
      "metadata": {
        "id": "PY05FhW2YRY5"
      },
      "source": [
        "if not os.path.exists(DATA_OUT_PATH):\n",
        "    os.makedirs(DATA_OUT_PATH)\n",
        "    \n",
        "# 위에서 만든 랜덤 포레스트 분류기를 통해 예측값을 가져온다.\n",
        "result = forest.predict(test_data_features)\n",
        "\n",
        "# 판다스 데이터 프레임을 통해 데이터를 구성해서 output에 넣는다.\n",
        "output = pd.DataFrame( data={\"id\": ids, \"sentiment\": result} )\n",
        "\n",
        "# 이제 csv파일로 만든다.\n",
        "output.to_csv( DATA_OUT_PATH + \"Bag_of_Words_model.csv\", index=False, quoting=3 )"
      ],
      "execution_count": 15,
      "outputs": []
    }
  ]
}