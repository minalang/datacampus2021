{
  "nbformat": 4,
  "nbformat_minor": 0,
  "metadata": {
    "colab": {
      "name": "210726_dlml_practice.ipynb",
      "provenance": [],
      "authorship_tag": "ABX9TyM4M5z5XqfqnicbCPQwNuZS",
      "include_colab_link": true
    },
    "kernelspec": {
      "name": "python3",
      "display_name": "Python 3"
    },
    "language_info": {
      "name": "python"
    }
  },
  "cells": [
    {
      "cell_type": "markdown",
      "metadata": {
        "id": "view-in-github",
        "colab_type": "text"
      },
      "source": [
        "<a href=\"https://colab.research.google.com/github/minalang/study/blob/main/210726_dlml_practice.ipynb\" target=\"_parent\"><img src=\"https://colab.research.google.com/assets/colab-badge.svg\" alt=\"Open In Colab\"/></a>"
      ]
    },
    {
      "cell_type": "markdown",
      "metadata": {
        "id": "PPvzdhwaX0i-"
      },
      "source": [
        "## 210726 딥러닝/머신러닝 수업\n",
        "- 파이썬 기본 설치 및 실행\n",
        "- 연산자 오버로딩 예시 "
      ]
    },
    {
      "cell_type": "code",
      "metadata": {
        "colab": {
          "base_uri": "https://localhost:8080/"
        },
        "id": "tsWQf8F6Xcla",
        "outputId": "cee2f700-91a7-4451-8f8b-3d907985c82f"
      },
      "source": [
        "# 연산자 오버로딩 예시\n",
        "print(12+37) # +는 두 정수를 더하는 연산자\n",
        "print('python'+' is exciting.') # +는 두 문자열을 접합하는 연산자\n",
        "\n",
        "# 라이브러리 불러오기\n",
        "import random # random이라는 라이브러리를 불러옴\n",
        "\n",
        "# 정수 난수 생성\n",
        "a=random.randint(10,20) # [10,20] 사이의 난수를 생성하고 변수 a에 대입\n",
        "b=random.randint(10,20) # [10,20] 사이의 난수를 생성하고 변수 b에 대입\n",
        "\n",
        "# 덧셈을 하고 결과를 출력\n",
        "c=a+b # a와 b를 더하여 변수 c에 대입\n",
        "print(a,b,c) # 변수 a, b, c를 출력"
      ],
      "execution_count": null,
      "outputs": [
        {
          "output_type": "stream",
          "text": [
            "49\n",
            "python is exciting.\n",
            "10 12 22\n"
          ],
          "name": "stdout"
        }
      ]
    },
    {
      "cell_type": "code",
      "metadata": {
        "colab": {
          "base_uri": "https://localhost:8080/"
        },
        "id": "09-u1vrunMlm",
        "outputId": "9ee5f4e4-a6f7-4f5e-831d-6ff17b270cdb"
      },
      "source": [
        "#연습문제1: 실수 난수 생성\n",
        "\n",
        "# 라이브러리 불러오기\n",
        "import random # random이라는 라이브러리를 불러옴\n",
        "\n",
        "# 정수 난수 생성\n",
        "a=random.uniform(0,1) # [1,2] 사이의 난수를 생성하고 변수 a에 대입\n",
        "b=random.uniform(0,1) # [1,2] 사이의 난수를 생성하고 변수 b에 대입\n",
        "\n",
        "# 덧셈을 하고 결과를 출력\n",
        "c=a+b # a와 b를 더하여 변수 c에 대입\n",
        "print(a,b,c) # 변수 a, b, c를 출력"
      ],
      "execution_count": null,
      "outputs": [
        {
          "output_type": "stream",
          "text": [
            "0.07426842932220368 0.015325286566631346 0.08959371588883502\n"
          ],
          "name": "stdout"
        }
      ]
    },
    {
      "cell_type": "markdown",
      "metadata": {
        "id": "cA7FsYS_bGna"
      },
      "source": [
        "2.4 인공지능 프로그래밍 예제1: 셈 지능\n",
        "- 컴퓨터의 셈 지능 속도 측정"
      ]
    },
    {
      "cell_type": "code",
      "metadata": {
        "colab": {
          "base_uri": "https://localhost:8080/"
        },
        "id": "82-GJ92kXcoE",
        "outputId": "2df4ad07-6336-41a6-8171-5dae734dc971"
      },
      "source": [
        "import time # 시간 측정 라이브러리\n",
        "\n",
        "start=time.time() # 시작 직전 시각을 기록\n",
        "sum=0\n",
        "for i in range(1,100000001): # 1억 번 반복\n",
        "    sum=sum+i\n",
        "\n",
        "end=time.time() # 끝난 직후 시각을 기록\n",
        "\n",
        "print('1+2+...+100000000=', sum)\n",
        "print('소요 시간은 ', end-start, '초입니다.') # 시간 차이를 계산하여 출력"
      ],
      "execution_count": null,
      "outputs": [
        {
          "output_type": "stream",
          "text": [
            "1+2+...+100000000= 5000000050000000\n",
            "소요 시간은  12.245166778564453 초입니다.\n"
          ],
          "name": "stdout"
        }
      ]
    },
    {
      "cell_type": "code",
      "metadata": {
        "colab": {
          "base_uri": "https://localhost:8080/"
        },
        "id": "HnkIvsnVr6GF",
        "outputId": "89e32f36-c26f-4d1a-cc48-4a0fa44fbc31"
      },
      "source": [
        "#연습문제3\n",
        "import time # 시간 측정 라이브러리\n",
        "\n",
        "start=time.time() # 시작 직전 시각을 기록\n",
        "b=[]\n",
        "for i in range(1,100000001): # 1억 번 반복\n",
        "    a=random.uniform(0,1)\n",
        "    sum=sum+a\n",
        "\n",
        "end=time.time() # 끝난 직후 시각을 기록\n",
        "\n",
        "print('1+2+...+100000000=', sum)\n",
        "print('소요 시간은 ', end-start, '초입니다.') # 시간 차이를 계산하여 출력"
      ],
      "execution_count": null,
      "outputs": [
        {
          "output_type": "stream",
          "text": [
            "1+2+...+100000000= 5000000099995176.0\n",
            "소요 시간은  47.95258593559265 초입니다.\n"
          ],
          "name": "stdout"
        }
      ]
    },
    {
      "cell_type": "markdown",
      "metadata": {
        "id": "EAlD1DrBZMjW"
      },
      "source": [
        "2.5 인공지능 프로그래밍 예제2: 인공지능 기자"
      ]
    },
    {
      "cell_type": "code",
      "metadata": {
        "colab": {
          "base_uri": "https://localhost:8080/"
        },
        "id": "w4uF8h7KXcqk",
        "outputId": "4099ac61-71a9-4139-a035-3e4c0f29688b"
      },
      "source": [
        "from datetime import datetime\n",
        "\n",
        "# 경기 결과 입력 받는 곳\n",
        "place=input(\"경기가 열린 곳은? \")\n",
        "time=input(\"경기가 열린 시간은? \")\n",
        "opponent=input(\"상대 팀은? \")\n",
        "goals=input(\"손흥민은 몇 골을 넣었나요? \")\n",
        "aids=input(\"도움은 몇 개인가요? \")\n",
        "score_me=input(\"손흥민 팀이 넣은 골 수는? \")\n",
        "score_you=input(\"상대 팀이 넣은 골 수는? \")\n",
        "\n",
        "# 기사 작성하는 곳\n",
        "news=\"[프리미어 리그 속보(\"+str(datetime.now())+\")]\\n\"\n",
        "news=news+\"손흥민 선수는 \"+place+\"에서 \"+time+\"에 열린 경기에 출전하였습니다. \"\n",
        "news=news+\"상대 팀은 \"+opponent+\"입니다. \"\n",
        "\n",
        "if score_me>score_you:\n",
        "    news=news+\"손흥민 선수의 팀이 \"+score_me+\"골을 넣어 \"+score_you+\"골을 넣은 상대 팀을 이겼습니다. \"\n",
        "elif score_me<score_you:\n",
        "    news=news+\"손흥민 선수의 팀이 \"+score_me+\"골을 넣어 \"+score_you+\"골을 넣은 상대 팀에게 졌습니다. \"\n",
        "else:\n",
        "    news=news+\"두 팀은 \"+score_me+\"대\"+score_you+\"로 비겼습니다. \"\n",
        "\n",
        "if int(goals)>0 and int(aids)>0:\n",
        "    news=news+\"손흥민 선수는 \"+goals+\"골에 도움 \"+aids+\"개로 승리를 크게 이끌었습니다. \"\n",
        "elif int(goals)>0 and int(aids)==0:\n",
        "    news=news+\"손흥민 선수는 \"+goals+\"골로 승리를 이끌었습니다. \"\n",
        "elif int(goals)==0 and int(aids)>0:\n",
        "    news=news+\"손흥민 선수는 골은 없지만 도움 \"+aids+\"개로 승리하는 데 공헌하였습니다. \"\n",
        "else:\n",
        "    news=news+\"아쉽게도 이번 경기에서 손홍민의 발끝은 침묵을 지켰습니다. \"\n",
        "\n",
        "print(news)\n",
        "\n",
        "'''\n",
        "#기사의 다양성을 추구해보자\n",
        "#리스트에 여러 문장을 넣어두고 랜덤하게 선택해 변화를 줄 수도 있다.\n",
        "wording=[\"상대 팀을 이겼습니다.\", \"상대를 대상으로 통쾌한 승리를 거머쥐었습니다.\", \"상대 팀을 꺾었습니다.\"]\n",
        "news=news+\"손흥민 선수의 팀이\"+score_me+\"골을 넣어\"+score_you+\"골을 넣은\"+random.choice(wording)\n",
        "--> 규칙기반 방법\n",
        "'''"
      ],
      "execution_count": null,
      "outputs": [
        {
          "output_type": "stream",
          "text": [
            "경기가 열린 곳은? 서울\n",
            "경기가 열린 시간은? 2시\n",
            "상대 팀은? 우즈벡\n",
            "손흥민은 몇 골을 넣었나요? 3\n",
            "도움은 몇 개인가요? 3\n",
            "손흥민 팀이 넣은 골 수는? 4\n",
            "상대 팀이 넣은 골 수는? 2\n",
            "[프리미어 리그 속보(2021-07-26 06:00:03.654186)]\n",
            "손흥민 선수는 서울에서 2시에 열린 경기에 출전하였습니다. 상대 팀은 우즈벡입니다. 손흥민 선수의 팀이 4골을 넣어 2골을 넣은 상대 팀을 이겼습니다. 손흥민 선수는 3골에 도움 3개로 승리를 크게 이끌었습니다. \n"
          ],
          "name": "stdout"
        }
      ]
    },
    {
      "cell_type": "code",
      "metadata": {
        "id": "AIVUgnjb6LMc"
      },
      "source": [
        "from datetime import datetime\n",
        "\n",
        "# 경기 결과 입력 받는 곳\n",
        "place=input(\"경기가 열린 곳은? \")\n",
        "time=input(\"경기가 열린 시간은? \")\n",
        "opponent=input(\"상대 팀은? \")\n",
        "goals=input(\"손흥민은 몇 골을 넣었나요? \")\n",
        "aids=input(\"도움은 몇 개인가요? \")\n",
        "score_me=input(\"손흥민 팀이 넣은 골 수는? \")\n",
        "score_you=input(\"상대 팀이 넣은 골 수는? \")\n",
        "\n",
        "# 기사 작성하는 곳\n",
        "news=\"[프리미어 리그 속보(\"+str(datetime.now())+\")]\\n\"\n",
        "news=news+\"손흥민 선수는 \"+place+\"에서 \"+time+\"에 열린 경기에 출전하였습니다. \"\n",
        "news=news+\"상대 팀은 \"+opponent+\"입니다. \"\n",
        "\n",
        "if score_me>score_you:\n",
        "    news=news+\"손흥민 선수의 팀이 \"+score_me+\"골을 넣어 \"+score_you+\"골을 넣은 상대 팀을 이겼습니다. \"\n",
        "elif score_me<score_you:\n",
        "    news=news+\"손흥민 선수의 팀이 \"+score_me+\"골을 넣어 \"+score_you+\"골을 넣은 상대 팀에게 졌습니다. \"\n",
        "else:\n",
        "    news=news+\"두 팀은 \"+score_me+\"대\"+score_you+\"로 비겼습니다. \"\n",
        "\n",
        "if int(goals)>0 and int(aids)>0:\n",
        "    news=news+\"손흥민 선수는 \"+goals+\"골에 도움 \"+aids+\"개로 승리를 크게 이끌었습니다. \"\n",
        "elif int(goals)>0 and int(aids)==0:\n",
        "    news=news+\"손흥민 선수는 \"+goals+\"골로 승리를 이끌었습니다. \"\n",
        "elif int(goals)==0 and int(aids)>0:\n",
        "    news=news+\"손흥민 선수는 골은 없지만 도움 \"+aids+\"개로 승리하는 데 공헌하였습니다. \"\n",
        "else:\n",
        "    news=news+\"아쉽게도 이번 경기에서 손홍민의 발끝은 침묵을 지켰습니다. \"\n",
        "\n",
        "print(news)"
      ],
      "execution_count": null,
      "outputs": []
    },
    {
      "cell_type": "markdown",
      "metadata": {
        "id": "8vP5zKqAdRP6"
      },
      "source": [
        "2.6 인공지능 프로그램 예제3: 더 똑똑한 인공지능 기자 "
      ]
    },
    {
      "cell_type": "code",
      "metadata": {
        "colab": {
          "base_uri": "https://localhost:8080/"
        },
        "id": "8mSqMZJNXcv5",
        "outputId": "5e9622e8-b26d-42e0-fde7-6c5013591098"
      },
      "source": [
        "!pip install gtts"
      ],
      "execution_count": null,
      "outputs": [
        {
          "output_type": "stream",
          "text": [
            "Collecting gtts\n",
            "  Downloading gTTS-2.2.3-py3-none-any.whl (25 kB)\n",
            "Requirement already satisfied: requests in /usr/local/lib/python3.7/dist-packages (from gtts) (2.23.0)\n",
            "Requirement already satisfied: click in /usr/local/lib/python3.7/dist-packages (from gtts) (7.1.2)\n",
            "Requirement already satisfied: six in /usr/local/lib/python3.7/dist-packages (from gtts) (1.15.0)\n",
            "Requirement already satisfied: idna<3,>=2.5 in /usr/local/lib/python3.7/dist-packages (from requests->gtts) (2.10)\n",
            "Requirement already satisfied: certifi>=2017.4.17 in /usr/local/lib/python3.7/dist-packages (from requests->gtts) (2021.5.30)\n",
            "Requirement already satisfied: chardet<4,>=3.0.2 in /usr/local/lib/python3.7/dist-packages (from requests->gtts) (3.0.4)\n",
            "Requirement already satisfied: urllib3!=1.25.0,!=1.25.1,<1.26,>=1.21.1 in /usr/local/lib/python3.7/dist-packages (from requests->gtts) (1.24.3)\n",
            "Installing collected packages: gtts\n",
            "Successfully installed gtts-2.2.3\n"
          ],
          "name": "stdout"
        }
      ]
    },
    {
      "cell_type": "code",
      "metadata": {
        "colab": {
          "base_uri": "https://localhost:8080/"
        },
        "id": "27aK6LNBZ01Y",
        "outputId": "3003526d-bc46-4b85-abb9-6f3fb3f33041"
      },
      "source": [
        "!pip install playsound"
      ],
      "execution_count": null,
      "outputs": [
        {
          "output_type": "stream",
          "text": [
            "Collecting playsound\n",
            "  Downloading playsound-1.3.0.tar.gz (7.7 kB)\n",
            "Building wheels for collected packages: playsound\n",
            "  Building wheel for playsound (setup.py) ... \u001b[?25l\u001b[?25hdone\n",
            "  Created wheel for playsound: filename=playsound-1.3.0-py3-none-any.whl size=7035 sha256=56a083ad749a201f357fdba79e036d443117703575d12b4049e5e8f40d5fd88f\n",
            "  Stored in directory: /root/.cache/pip/wheels/ba/f8/bb/ea57c0146b664dca3a0ada4199b0ecb5f9dfcb7b7e22b65ba2\n",
            "Successfully built playsound\n",
            "Installing collected packages: playsound\n",
            "Successfully installed playsound-1.3.0\n"
          ],
          "name": "stdout"
        }
      ]
    },
    {
      "cell_type": "code",
      "metadata": {
        "colab": {
          "base_uri": "https://localhost:8080/"
        },
        "id": "23zG11vlXctQ",
        "outputId": "737b5a9e-2efb-42f7-9f34-4b071b45523e"
      },
      "source": [
        "from datetime import datetime\n",
        "\n",
        "# 경기 결과 입력 받는 곳\n",
        "place=input(\"경기가 열린 곳은? \")\n",
        "time=input(\"경기가 열린 시간은? \")\n",
        "opponent=input(\"상대 팀은? \")\n",
        "goals=input(\"손흥민은 몇 골을 넣었나요? \")\n",
        "aids=input(\"도움은 몇 개인가요? \")\n",
        "score_me=input(\"손흥민 팀이 넣은 골 수는? \")\n",
        "score_you=input(\"상대 팀이 넣은 골 수는? \")\n",
        "\n",
        "# 기사 작성하는 곳\n",
        "news=\"[프리미어 리그 속보(\"+str(datetime.now())+\")]\\n\"\n",
        "news=news+\"손흥민 선수는 \"+place+\"에서 \"+time+\"에 열린 경기에 출전하였습니다. \"\n",
        "news=news+\"상대 팀은 \"+opponent+\"입니다. \"\n",
        "\n",
        "if score_me>score_you:\n",
        "    news=news+\"손흥민 선수의 팀이 \"+score_me+\"골을 넣어 \"+score_you+\"골을 넣은 상대 팀을 이겼습니다. \"\n",
        "elif score_me<score_you:\n",
        "    news=news+\"손흥민 선수의 팀이 \"+score_me+\"골을 넣어 \"+score_you+\"골을 넣은 상대 팀에게 졌습니다. \"\n",
        "else:\n",
        "    news=news+\"두 팀은 \"+score_me+\"대\"+score_you+\"로 비겼습니다. \"\n",
        "\n",
        "if int(goals)>0 and int(aids)>0:\n",
        "    news=news+\"손흥민 선수는 \"+goals+\"골에 도움 \"+aids+\"개로 승리를 크게 이끌었습니다. \"\n",
        "elif int(goals)>0 and int(aids)==0:\n",
        "    news=news+\"손흥민 선수는 \"+goals+\"골로 승리를 이끌었습니다. \"\n",
        "elif int(goals)==0 and int(aids)>0:\n",
        "    news=news+\"손흥민 선수는 골은 없지만 도움 \"+aids+\"개로 승리하는 데 공헌하였습니다. \"\n",
        "else:\n",
        "    news=news+\"아쉽게도 이번 경기에서 손홍민의 발끝은 침묵을 지켰습니다. \"\n",
        "\n",
        "print(news)\n",
        "\n",
        "# 음성으로 들려주는 곳\n",
        "from gtts import gTTS\n",
        "import playsound\n",
        "\n",
        "tts=gTTS(text=news,lang='ko') # 문자열 news를 위한 한국어 음성 합성\n",
        "tts.save(\"news_Son.mp3\")\n",
        "\n",
        "#playsound.playsound(\"news_Son.mp3\",True)"
      ],
      "execution_count": null,
      "outputs": [
        {
          "output_type": "stream",
          "text": [
            "경기가 열린 곳은? 서울\n",
            "경기가 열린 시간은? 2시\n",
            "상대 팀은? 일본\n",
            "손흥민은 몇 골을 넣었나요? 2\n",
            "도움은 몇 개인가요? 4\n",
            "손흥민 팀이 넣은 골 수는? 6\n",
            "상대 팀이 넣은 골 수는? 0\n",
            "[프리미어 리그 속보(2021-07-26 06:17:27.472910)]\n",
            "손흥민 선수는 서울에서 2시에 열린 경기에 출전하였습니다. 상대 팀은 일본입니다. 손흥민 선수의 팀이 6골을 넣어 0골을 넣은 상대 팀을 이겼습니다. 손흥민 선수는 2골에 도움 4개로 승리를 크게 이끌었습니다. \n"
          ],
          "name": "stdout"
        }
      ]
    },
    {
      "cell_type": "code",
      "metadata": {
        "id": "eNsbbaNMXc3d"
      },
      "source": [
        ""
      ],
      "execution_count": null,
      "outputs": []
    }
  ]
}