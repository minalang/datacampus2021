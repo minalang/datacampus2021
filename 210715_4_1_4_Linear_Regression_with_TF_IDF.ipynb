{
  "nbformat": 4,
  "nbformat_minor": 0,
  "metadata": {
    "kernelspec": {
      "display_name": "Python 3",
      "language": "python",
      "name": "python3"
    },
    "language_info": {
      "codemirror_mode": {
        "name": "ipython",
        "version": 3
      },
      "file_extension": ".py",
      "mimetype": "text/x-python",
      "name": "python",
      "nbconvert_exporter": "python",
      "pygments_lexer": "ipython3",
      "version": "3.6.8"
    },
    "colab": {
      "name": "4.1.4 Linear Regression with TF-IDF.ipynb",
      "provenance": [],
      "collapsed_sections": [],
      "include_colab_link": true
    }
  },
  "cells": [
    {
      "cell_type": "markdown",
      "metadata": {
        "id": "view-in-github",
        "colab_type": "text"
      },
      "source": [
        "<a href=\"https://colab.research.google.com/github/minalang/study/blob/main/210715_4_1_4_Linear_Regression_with_TF_IDF.ipynb\" target=\"_parent\"><img src=\"https://colab.research.google.com/assets/colab-badge.svg\" alt=\"Open In Colab\"/></a>"
      ]
    },
    {
      "cell_type": "markdown",
      "metadata": {
        "id": "_xa16yUK_nw3"
      },
      "source": [
        "## 4.1.4 Logistic Regression Example with TF-IDF"
      ]
    },
    {
      "cell_type": "markdown",
      "metadata": {
        "id": "v41gsf4P_nw_"
      },
      "source": [
        "### TF-IDF Feature Example"
      ]
    },
    {
      "cell_type": "code",
      "metadata": {
        "id": "J2uzkqL-_nxB"
      },
      "source": [
        "import os\n",
        "\n",
        "import pandas as pd\n",
        "import numpy as np\n",
        "\n",
        "from sklearn.feature_extraction.text import TfidfVectorizer\n",
        "from sklearn.model_selection import train_test_split\n",
        "from sklearn.linear_model import LogisticRegression"
      ],
      "execution_count": 1,
      "outputs": []
    },
    {
      "cell_type": "code",
      "metadata": {
        "id": "AkRSDeOC_nxE"
      },
      "source": [
        "DATA_IN_PATH = './data_in/' \n",
        "DATA_OUT_PATH = './data_out/'\n",
        "TRAIN_CLEAN_DATA = 'train_clean.csv'\n",
        "\n",
        "RANDOM_SEED = 42\n",
        "TEST_SPLIT = 0.2"
      ],
      "execution_count": 2,
      "outputs": []
    },
    {
      "cell_type": "code",
      "metadata": {
        "id": "5tQFG0G8_nxG"
      },
      "source": [
        "train_data = pd.read_csv( DATA_IN_PATH + TRAIN_CLEAN_DATA )"
      ],
      "execution_count": 3,
      "outputs": []
    },
    {
      "cell_type": "code",
      "metadata": {
        "id": "UAhlor8H_nxH"
      },
      "source": [
        "reviews = list(train_data['review'])\n",
        "sentiments = list(train_data['sentiment'])"
      ],
      "execution_count": 4,
      "outputs": []
    },
    {
      "cell_type": "markdown",
      "metadata": {
        "id": "WtCjIyuNtv26"
      },
      "source": [
        "### 1) tf-idf 벡터화"
      ]
    },
    {
      "cell_type": "code",
      "metadata": {
        "id": "Jxsqs0xm_nxI"
      },
      "source": [
        "vectorizer = TfidfVectorizer(min_df = 0.0, analyzer=\"char\", sublinear_tf=True, ngram_range=(1,3), max_features=5000) \n",
        "\n",
        "X = vectorizer.fit_transform(reviews)\n",
        "y = np.array(sentiments)"
      ],
      "execution_count": 5,
      "outputs": []
    },
    {
      "cell_type": "code",
      "metadata": {
        "id": "joh3nAtM_nxK",
        "colab": {
          "base_uri": "https://localhost:8080/"
        },
        "outputId": "4b0578b1-bc45-4c34-df1a-dec43ba11203"
      },
      "source": [
        "X"
      ],
      "execution_count": 6,
      "outputs": [
        {
          "output_type": "execute_result",
          "data": {
            "text/plain": [
              "<25000x5000 sparse matrix of type '<class 'numpy.float64'>'\n",
              "\twith 17862871 stored elements in Compressed Sparse Row format>"
            ]
          },
          "metadata": {
            "tags": []
          },
          "execution_count": 6
        }
      ]
    },
    {
      "cell_type": "code",
      "metadata": {
        "id": "SCxxLLYq_nxL"
      },
      "source": [
        "features = vectorizer.get_feature_names()"
      ],
      "execution_count": 7,
      "outputs": []
    },
    {
      "cell_type": "markdown",
      "metadata": {
        "id": "PgQT2n8Et46h"
      },
      "source": [
        "### 2) 학습과 검증 데이터셋 분리"
      ]
    },
    {
      "cell_type": "code",
      "metadata": {
        "id": "tAKVTKcN_nxN"
      },
      "source": [
        "X_train, X_eval, y_train, y_eval = train_test_split(X, y, test_size=TEST_SPLIT, random_state=RANDOM_SEED)"
      ],
      "execution_count": 8,
      "outputs": []
    },
    {
      "cell_type": "markdown",
      "metadata": {
        "id": "kh0-3QxGuBWm"
      },
      "source": [
        "### 3) 모델 선언 및 학습"
      ]
    },
    {
      "cell_type": "code",
      "metadata": {
        "id": "dtrgyezo_nxO",
        "colab": {
          "base_uri": "https://localhost:8080/"
        },
        "outputId": "5b652751-748f-4b84-9a01-28d5a390a56c"
      },
      "source": [
        "lgs = LogisticRegression(class_weight='balanced') \n",
        "lgs.fit(X_train, y_train) "
      ],
      "execution_count": 9,
      "outputs": [
        {
          "output_type": "execute_result",
          "data": {
            "text/plain": [
              "LogisticRegression(C=1.0, class_weight='balanced', dual=False,\n",
              "                   fit_intercept=True, intercept_scaling=1, l1_ratio=None,\n",
              "                   max_iter=100, multi_class='auto', n_jobs=None, penalty='l2',\n",
              "                   random_state=None, solver='lbfgs', tol=0.0001, verbose=0,\n",
              "                   warm_start=False)"
            ]
          },
          "metadata": {
            "tags": []
          },
          "execution_count": 9
        }
      ]
    },
    {
      "cell_type": "code",
      "metadata": {
        "id": "wPAi8LkH_nxP"
      },
      "source": [
        "predicted = lgs.predict(X_eval)"
      ],
      "execution_count": 10,
      "outputs": []
    },
    {
      "cell_type": "markdown",
      "metadata": {
        "id": "HbVdRRXWuGGn"
      },
      "source": [
        "### 4) 검증 데이터로 성능 평가"
      ]
    },
    {
      "cell_type": "code",
      "metadata": {
        "id": "PZAUjYw2_nxQ",
        "colab": {
          "base_uri": "https://localhost:8080/"
        },
        "outputId": "b9c3a9de-63e7-4d1b-ff37-c02bc80874c4"
      },
      "source": [
        "print(\"Accuracy: %f\" % lgs.score(X_eval, y_eval))"
      ],
      "execution_count": 11,
      "outputs": [
        {
          "output_type": "stream",
          "text": [
            "Accuracy: 0.859800\n"
          ],
          "name": "stdout"
        }
      ]
    },
    {
      "cell_type": "code",
      "metadata": {
        "id": "yKMmXvdf_nxR"
      },
      "source": [
        "TEST_CLEAN_DATA = 'test_clean.csv'\n",
        "\n",
        "test_data = pd.read_csv(DATA_IN_PATH + TEST_CLEAN_DATA)"
      ],
      "execution_count": 12,
      "outputs": []
    },
    {
      "cell_type": "code",
      "metadata": {
        "id": "EXzJ5HgJ_nxS"
      },
      "source": [
        "testDataVecs = vectorizer.transform(test_data['review']) # fit을 호출하지 않고 transform을 호출하면 됨"
      ],
      "execution_count": 13,
      "outputs": []
    },
    {
      "cell_type": "code",
      "metadata": {
        "id": "3Xm5V1zC_nxS",
        "colab": {
          "base_uri": "https://localhost:8080/"
        },
        "outputId": "5346730e-8808-44db-bbe4-e9558d311f05"
      },
      "source": [
        "test_predicted = lgs.predict(testDataVecs)\n",
        "print(test_predicted) #각 예측에 대한 긍정(1), 부정(0)"
      ],
      "execution_count": 14,
      "outputs": [
        {
          "output_type": "stream",
          "text": [
            "[1 0 1 ... 0 1 0]\n"
          ],
          "name": "stdout"
        }
      ]
    },
    {
      "cell_type": "code",
      "metadata": {
        "id": "xLB5niDd_nxT"
      },
      "source": [
        "if not os.path.exists(DATA_OUT_PATH):\n",
        "    os.makedirs(DATA_OUT_PATH)\n",
        "\n",
        "answer_dataset = pd.DataFrame({'id': test_data['id'], 'sentiment': test_predicted})\n",
        "answer_dataset.to_csv(DATA_OUT_PATH + 'lgs_tfidf_answer.csv', index=False, quoting=3)"
      ],
      "execution_count": 15,
      "outputs": []
    }
  ]
}